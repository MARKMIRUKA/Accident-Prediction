{
  "nbformat": 4,
  "nbformat_minor": 0,
  "metadata": {
    "colab": {
      "provenance": [],
      "mount_file_id": "1ffa0suAoF479hy0ye3cmyOQ1WaJaolqT",
      "authorship_tag": "ABX9TyOIMglApsvDI/5oL+mBbtdz",
      "include_colab_link": true
    },
    "kernelspec": {
      "name": "python3",
      "display_name": "Python 3"
    },
    "language_info": {
      "name": "python"
    }
  },
  "cells": [
    {
      "cell_type": "markdown",
      "metadata": {
        "id": "view-in-github",
        "colab_type": "text"
      },
      "source": [
        "<a href=\"https://colab.research.google.com/github/MARKMIRUKA/Accident-Prediction/blob/main/accident_prediction.ipynb\" target=\"_parent\"><img src=\"https://colab.research.google.com/assets/colab-badge.svg\" alt=\"Open In Colab\"/></a>"
      ]
    },
    {
      "cell_type": "code",
      "execution_count": null,
      "metadata": {
        "colab": {
          "base_uri": "https://localhost:8080/"
        },
        "id": "qu73QdMuZkpe",
        "outputId": "f7c7755c-3fcc-4c32-bcae-37059095ee71"
      },
      "outputs": [
        {
          "output_type": "stream",
          "name": "stdout",
          "text": [
            "           Index Accident_Severity Accident Date   Latitude  \\\n",
            "0  200701BS64157           Serious      5/6/2019  51.506187   \n",
            "1  200701BS65737           Serious      2/7/2019  51.495029   \n",
            "2  200701BS66127           Serious    26-08-2019  51.517715   \n",
            "3  200701BS66128           Serious    16-08-2019  51.495478   \n",
            "4  200701BS66837            Slight      3/9/2019  51.488576   \n",
            "\n",
            "              Light_Conditions           District Area  Longitude  \\\n",
            "0        Darkness - lights lit  Kensington and Chelsea  -0.209082   \n",
            "1                     Daylight  Kensington and Chelsea  -0.173647   \n",
            "2  Darkness - lighting unknown  Kensington and Chelsea  -0.210215   \n",
            "3                     Daylight  Kensington and Chelsea  -0.202731   \n",
            "4        Darkness - lights lit  Kensington and Chelsea  -0.192487   \n",
            "\n",
            "   Number_of_Casualties  Number_of_Vehicles Road_Surface_Conditions  \\\n",
            "0                     1                   2                     Dry   \n",
            "1                     1                   2             Wet or damp   \n",
            "2                     1                   3                     Dry   \n",
            "3                     1                   4                     Dry   \n",
            "4                     1                   2                     Dry   \n",
            "\n",
            "            Road_Type Urban_or_Rural_Area     Weather_Conditions  \\\n",
            "0  Single carriageway               Urban     Fine no high winds   \n",
            "1  Single carriageway               Urban  Raining no high winds   \n",
            "2                 NaN               Urban                    NaN   \n",
            "3  Single carriageway               Urban     Fine no high winds   \n",
            "4                 NaN               Urban                    NaN   \n",
            "\n",
            "                           Vehicle_Type  \n",
            "0                                   Car  \n",
            "1                                   Car  \n",
            "2                 Taxi/Private hire car  \n",
            "3  Bus or coach (17 or more pass seats)  \n",
            "4                         Other vehicle  \n",
            "<class 'pandas.core.frame.DataFrame'>\n",
            "RangeIndex: 660679 entries, 0 to 660678\n",
            "Data columns (total 14 columns):\n",
            " #   Column                   Non-Null Count   Dtype  \n",
            "---  ------                   --------------   -----  \n",
            " 0   Index                    660679 non-null  object \n",
            " 1   Accident_Severity        660679 non-null  object \n",
            " 2   Accident Date            660679 non-null  object \n",
            " 3   Latitude                 660654 non-null  float64\n",
            " 4   Light_Conditions         660679 non-null  object \n",
            " 5   District Area            660679 non-null  object \n",
            " 6   Longitude                660653 non-null  float64\n",
            " 7   Number_of_Casualties     660679 non-null  int64  \n",
            " 8   Number_of_Vehicles       660679 non-null  int64  \n",
            " 9   Road_Surface_Conditions  659953 non-null  object \n",
            " 10  Road_Type                656159 non-null  object \n",
            " 11  Urban_or_Rural_Area      660664 non-null  object \n",
            " 12  Weather_Conditions       646551 non-null  object \n",
            " 13  Vehicle_Type             660679 non-null  object \n",
            "dtypes: float64(2), int64(2), object(10)\n",
            "memory usage: 70.6+ MB\n",
            "None\n",
            "            Latitude      Longitude  Number_of_Casualties  Number_of_Vehicles\n",
            "count  660654.000000  660653.000000         660679.000000       660679.000000\n",
            "mean       52.553866      -1.431210              1.357040            1.831255\n",
            "std         1.406922       1.383330              0.824847            0.715269\n",
            "min        49.914430      -7.516225              1.000000            1.000000\n",
            "25%        51.490690      -2.332291              1.000000            1.000000\n",
            "50%        52.315641      -1.411667              1.000000            2.000000\n",
            "75%        53.453452      -0.232869              1.000000            2.000000\n",
            "max        60.757544       1.762010             68.000000           32.000000\n"
          ]
        }
      ],
      "source": [
        "import pandas as pd\n",
        "\n",
        "# Load the dataset\n",
        "file_path = '/content/drive/MyDrive/Datasets/accident data.csv'\n",
        "data = pd.read_csv(file_path)\n",
        "\n",
        "# Display the first few rows of the dataset to understand its structure\n",
        "print(data.head())\n",
        "\n",
        "# Check for missing values and basic information about the dataset\n",
        "print(data.info())\n",
        "\n",
        "# Display basic statistics for numerical columns\n",
        "print(data.describe())\n"
      ]
    },
    {
      "cell_type": "code",
      "source": [
        "# Handling missing values\n",
        "# Fill missing values for numerical columns with median\n",
        "data['Latitude'].fillna(data['Latitude'].median(), inplace=True)\n",
        "data['Longitude'].fillna(data['Longitude'].median(), inplace=True)\n",
        "\n",
        "# For categorical columns, we can fill missing values with the mode (most frequent value)\n",
        "data['Road_Surface_Conditions'].fillna(data['Road_Surface_Conditions'].mode()[0], inplace=True)\n",
        "data['Road_Type'].fillna(data['Road_Type'].mode()[0], inplace=True)\n",
        "data['Urban_or_Rural_Area'].fillna(data['Urban_or_Rural_Area'].mode()[0], inplace=True)\n",
        "data['Weather_Conditions'].fillna(data['Weather_Conditions'].mode()[0], inplace=True)\n",
        "\n",
        "# Confirm that there are no missing values left\n",
        "print(data.isnull().sum())\n"
      ],
      "metadata": {
        "colab": {
          "base_uri": "https://localhost:8080/"
        },
        "id": "7kBA4arwbkje",
        "outputId": "bfc053f6-8fc5-4b5b-9e93-7de005ad0ef5"
      },
      "execution_count": null,
      "outputs": [
        {
          "output_type": "stream",
          "name": "stderr",
          "text": [
            "<ipython-input-9-c57f458110fe>:3: FutureWarning: A value is trying to be set on a copy of a DataFrame or Series through chained assignment using an inplace method.\n",
            "The behavior will change in pandas 3.0. This inplace method will never work because the intermediate object on which we are setting values always behaves as a copy.\n",
            "\n",
            "For example, when doing 'df[col].method(value, inplace=True)', try using 'df.method({col: value}, inplace=True)' or df[col] = df[col].method(value) instead, to perform the operation inplace on the original object.\n",
            "\n",
            "\n",
            "  data['Latitude'].fillna(data['Latitude'].median(), inplace=True)\n",
            "<ipython-input-9-c57f458110fe>:4: FutureWarning: A value is trying to be set on a copy of a DataFrame or Series through chained assignment using an inplace method.\n",
            "The behavior will change in pandas 3.0. This inplace method will never work because the intermediate object on which we are setting values always behaves as a copy.\n",
            "\n",
            "For example, when doing 'df[col].method(value, inplace=True)', try using 'df.method({col: value}, inplace=True)' or df[col] = df[col].method(value) instead, to perform the operation inplace on the original object.\n",
            "\n",
            "\n",
            "  data['Longitude'].fillna(data['Longitude'].median(), inplace=True)\n",
            "<ipython-input-9-c57f458110fe>:7: FutureWarning: A value is trying to be set on a copy of a DataFrame or Series through chained assignment using an inplace method.\n",
            "The behavior will change in pandas 3.0. This inplace method will never work because the intermediate object on which we are setting values always behaves as a copy.\n",
            "\n",
            "For example, when doing 'df[col].method(value, inplace=True)', try using 'df.method({col: value}, inplace=True)' or df[col] = df[col].method(value) instead, to perform the operation inplace on the original object.\n",
            "\n",
            "\n",
            "  data['Road_Surface_Conditions'].fillna(data['Road_Surface_Conditions'].mode()[0], inplace=True)\n",
            "<ipython-input-9-c57f458110fe>:8: FutureWarning: A value is trying to be set on a copy of a DataFrame or Series through chained assignment using an inplace method.\n",
            "The behavior will change in pandas 3.0. This inplace method will never work because the intermediate object on which we are setting values always behaves as a copy.\n",
            "\n",
            "For example, when doing 'df[col].method(value, inplace=True)', try using 'df.method({col: value}, inplace=True)' or df[col] = df[col].method(value) instead, to perform the operation inplace on the original object.\n",
            "\n",
            "\n",
            "  data['Road_Type'].fillna(data['Road_Type'].mode()[0], inplace=True)\n",
            "<ipython-input-9-c57f458110fe>:9: FutureWarning: A value is trying to be set on a copy of a DataFrame or Series through chained assignment using an inplace method.\n",
            "The behavior will change in pandas 3.0. This inplace method will never work because the intermediate object on which we are setting values always behaves as a copy.\n",
            "\n",
            "For example, when doing 'df[col].method(value, inplace=True)', try using 'df.method({col: value}, inplace=True)' or df[col] = df[col].method(value) instead, to perform the operation inplace on the original object.\n",
            "\n",
            "\n",
            "  data['Urban_or_Rural_Area'].fillna(data['Urban_or_Rural_Area'].mode()[0], inplace=True)\n",
            "<ipython-input-9-c57f458110fe>:10: FutureWarning: A value is trying to be set on a copy of a DataFrame or Series through chained assignment using an inplace method.\n",
            "The behavior will change in pandas 3.0. This inplace method will never work because the intermediate object on which we are setting values always behaves as a copy.\n",
            "\n",
            "For example, when doing 'df[col].method(value, inplace=True)', try using 'df.method({col: value}, inplace=True)' or df[col] = df[col].method(value) instead, to perform the operation inplace on the original object.\n",
            "\n",
            "\n",
            "  data['Weather_Conditions'].fillna(data['Weather_Conditions'].mode()[0], inplace=True)\n"
          ]
        },
        {
          "output_type": "stream",
          "name": "stdout",
          "text": [
            "Index                      0\n",
            "Accident_Severity          0\n",
            "Accident Date              0\n",
            "Latitude                   0\n",
            "Light_Conditions           0\n",
            "District Area              0\n",
            "Longitude                  0\n",
            "Number_of_Casualties       0\n",
            "Number_of_Vehicles         0\n",
            "Road_Surface_Conditions    0\n",
            "Road_Type                  0\n",
            "Urban_or_Rural_Area        0\n",
            "Weather_Conditions         0\n",
            "Vehicle_Type               0\n",
            "dtype: int64\n"
          ]
        }
      ]
    },
    {
      "cell_type": "code",
      "source": [
        "from sklearn.preprocessing import LabelEncoder\n",
        "\n",
        "# Encoding Accident Severity as target variable\n",
        "severity_mapping = {'Slight': 0, 'Serious': 1, 'Fatal': 2}\n",
        "data['Accident_Severity'] = data['Accident_Severity'].map(severity_mapping)\n",
        "\n",
        "# Encode other categorical features using Label Encoding\n",
        "label_encoder = LabelEncoder()\n",
        "\n",
        "categorical_columns = ['Light_Conditions', 'District Area', 'Road_Surface_Conditions',\n",
        "                       'Road_Type', 'Urban_or_Rural_Area', 'Weather_Conditions', 'Vehicle_Type']\n",
        "\n",
        "for col in categorical_columns:\n",
        "    data[col] = label_encoder.fit_transform(data[col])\n"
      ],
      "metadata": {
        "id": "NljqryZTb0zo"
      },
      "execution_count": null,
      "outputs": []
    },
    {
      "cell_type": "code",
      "source": [
        "# Independent variables (features)\n",
        "X = data[['Latitude', 'Longitude', 'Number_of_Casualties', 'Number_of_Vehicles',\n",
        "          'Light_Conditions', 'Road_Surface_Conditions', 'Road_Type',\n",
        "          'Urban_or_Rural_Area', 'Weather_Conditions', 'Vehicle_Type']]\n",
        "\n",
        "# Dependent variable (target)\n",
        "y = data['Accident_Severity']\n"
      ],
      "metadata": {
        "id": "aupu06RNcAzN"
      },
      "execution_count": null,
      "outputs": []
    },
    {
      "cell_type": "code",
      "source": [
        "from sklearn.model_selection import train_test_split\n",
        "\n",
        "# Split the data: 80% training, 20% testing\n",
        "X_train, X_test, y_train, y_test = train_test_split(X, y, test_size=0.2, random_state=42)\n"
      ],
      "metadata": {
        "id": "a_FtI-uycHug"
      },
      "execution_count": null,
      "outputs": []
    },
    {
      "cell_type": "code",
      "source": [
        "from sklearn.linear_model import LogisticRegression\n",
        "from sklearn.metrics import classification_report, accuracy_score\n",
        "\n",
        "# Build and train the logistic regression model\n",
        "model = LogisticRegression(max_iter=1000)\n",
        "model.fit(X_train, y_train)\n",
        "\n",
        "# Predict on the test set\n",
        "y_pred = model.predict(X_test)\n",
        "\n",
        "# Evaluate the model\n",
        "accuracy = accuracy_score(y_test, y_pred)\n",
        "report = classification_report(y_test, y_pred)\n",
        "\n",
        "print(f\"Accuracy: {accuracy}\")\n",
        "print(\"Classification Report:\\n\", report)\n"
      ],
      "metadata": {
        "colab": {
          "base_uri": "https://localhost:8080/"
        },
        "id": "BLd2XhAJdP7c",
        "outputId": "d06d80d7-06b0-4b41-ea04-7989d4a8bf60"
      },
      "execution_count": null,
      "outputs": [
        {
          "output_type": "stream",
          "name": "stdout",
          "text": [
            "Accuracy: 0.853930798571169\n",
            "Classification Report:\n",
            "               precision    recall  f1-score   support\n",
            "\n",
            "           0       0.85      1.00      0.92    112849\n",
            "           1       0.38      0.00      0.00     17536\n",
            "           2       0.15      0.00      0.00      1751\n",
            "\n",
            "    accuracy                           0.85    132136\n",
            "   macro avg       0.46      0.33      0.31    132136\n",
            "weighted avg       0.78      0.85      0.79    132136\n",
            "\n"
          ]
        }
      ]
    }
  ]
}